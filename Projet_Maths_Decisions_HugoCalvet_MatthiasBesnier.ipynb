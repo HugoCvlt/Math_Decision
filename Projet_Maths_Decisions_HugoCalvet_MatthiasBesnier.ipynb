{
  "nbformat": 4,
  "nbformat_minor": 0,
  "metadata": {
    "colab": {
      "name": "Projet_Maths_Decisions_HugoCalvet_MatthiasBesnier.ipynb",
      "provenance": [],
      "collapsed_sections": [
        "Hkjh6HYTree1"
      ]
    },
    "kernelspec": {
      "name": "python3",
      "display_name": "Python 3"
    },
    "language_info": {
      "name": "python"
    }
  },
  "cells": [
    {
      "cell_type": "markdown",
      "source": [
        "# ***Projet de Mathématiques de la décision par Hugo Calvet et Matthias Besnier sous la direction de Hugo Gilbert***"
      ],
      "metadata": {
        "id": "fiClV_w1AKFS"
      }
    },
    {
      "cell_type": "code",
      "source": [
        "import numpy as np\n",
        "from itertools import permutations \n",
        "import time\n",
        "import copy"
      ],
      "metadata": {
        "id": "s5o1zLw6W_zz"
      },
      "execution_count": null,
      "outputs": []
    },
    {
      "cell_type": "markdown",
      "source": [
        "###Question 1 & 2"
      ],
      "metadata": {
        "id": "x6-ABmd5bexO"
      }
    },
    {
      "cell_type": "code",
      "source": [
        "class Relation:\n",
        "    def __init__(self, A, data):\n",
        "        self.A = A # liste des éléments de la Relation\n",
        "        self.data = data #matrice des relations binaires \n",
        "        self.prop =  {\"Reflexive\" : False,\n",
        "                      \"Irreflexive\" : False,\n",
        "                      \"Symetrique\" : False,\n",
        "                      \"Asymetrique\" : False,\n",
        "                      \"Antisymetrique\" : False,\n",
        "                      \"Transitive\" : False,\n",
        "                      \"NegativementTransitive\" : False,\n",
        "                      \"FortementComplete\" : False,\n",
        "                      \"Complete\" : False,\n",
        "                      \"SemiTransitive\" : False,\n",
        "                      \"Ferrers\" : False\n",
        "                      } #dico des propriété\n",
        "        \n",
        "        self.struct = {\"Equivalence\" : False,\n",
        "                      \"Preordre\" : False,\n",
        "                      \"PreordreComplet\" : False,\n",
        "                      \"Ordre\" : False,\n",
        "                      \"OrdreTotal\" : False,\n",
        "                      \"OrdreStrict\" : False,\n",
        "                      \"OrdreStrictTotal\" : False,\n",
        "                      \"OrdreFort\" : False,\n",
        "                      \"OrdreComplet\" : False,\n",
        "                      \"SemiOrdre\" : False,\n",
        "                      \"OrdreIntervalle\" : False\n",
        "                      } #dico des structures\n",
        "    \n",
        "       \n",
        "\n",
        "# ------------------------------- Tests des Propriétés ---------------------------------- #\n",
        "    \n",
        "    def isReflexive(self):\n",
        "        for i in self.A:\n",
        "            if self.relationBetween(i,i)==0:\n",
        "                print(\"pas reflexive : non \", i,\"R\",i)\n",
        "                return False\n",
        "        self.prop[\"Reflexive\"] = True\n",
        "        print(\"R est reflexive\")\n",
        "        return True\n",
        "\n",
        "    def isIrreflexive(self):\n",
        "        for i in self.A:\n",
        "            if self.relationBetween(i,i)==1:\n",
        "                print(\"pas irreflexive : \",i,\"R\",i) \n",
        "                return False      \n",
        "        self.prop[\"Irreflexive\"] = True\n",
        "        print(\"R est irreflexive\")\n",
        "        return True\n",
        "\n",
        "    def isSymetrique(self):\n",
        "      M = self.data\n",
        "      for i in range(M.shape[0]):\n",
        "        for j in range(M.shape[0]):\n",
        "          if M[i,j] != M[j,i]:\n",
        "             if M[i,j] == 1:\n",
        "              print(\"pas symétrique :\",self.A[i],\"R\",self.A[j],\" and non\",self.A[j],\"R\",self.A[i])\n",
        "             else:\n",
        "              print(\"pas symétrique : \",self.A[j],\"R\",self.A[i],\" and non\",self.A[i],\"R\",self.A[j])  \n",
        "             return False\n",
        "      self.prop[\"Symetrique\"] = True\n",
        "      print(\"R est symetrique\")\n",
        "      return True\n",
        "\n",
        "    def isAsymetrique(self):\n",
        "      for a in self.A:\n",
        "        for b in self.A:\n",
        "          if (self.relationBetween(a,b)==1 and self.relationBetween(b,a)==1):\n",
        "            print(\"pas asymétrique : \",a,\"R\",b,\" and \",b,\"R\",a)\n",
        "            return False\n",
        "      self.prop[\"Asymetrique\"] = True\n",
        "      print(\"R est asymetrique\")\n",
        "      return True\n",
        "    \n",
        "    def isAntisymetrique(self):\n",
        "        for a in self.A:\n",
        "          for b in self.A:\n",
        "            if (self.relationBetween(a,b)==1 and self.relationBetween(b,a)==1):\n",
        "              if (a != b):\n",
        "                print(\"pas antisymétrique : \",a,\"R\",b,\" and \",b,\"R\",a)\n",
        "                return False \n",
        "        self.prop[\"Antisymetrique\"] = True\n",
        "        print(\"R est antisymetrique\")\n",
        "        return True\n",
        "        \n",
        "    def isTransitive(self):\n",
        "       for a in self.A:\n",
        "         for b in self.A:\n",
        "           for k in self.A:\n",
        "             if self.relationBetween(a,k)==1 and self.relationBetween(k,b)==1:\n",
        "               if self.relationBetween(a,b)==0:\n",
        "                 print(\"pas transitive : \",a,\"R\",k,\" and \",k,\"R\",b,\" and non \",a,\"R\",b)\n",
        "                 return False\n",
        "       self.prop[\"Transitive\"] = True\n",
        "       print(\"R est transitive\")\n",
        "       return True\n",
        "    \n",
        "    \n",
        "    def isNegativementTransitive(self):\n",
        "        for a in self.A:\n",
        "          for b in self.A:\n",
        "            for k in self.A:\n",
        "             if self.relationBetween(a,k)==0 and self.relationBetween(k,b)==0:\n",
        "               if self.relationBetween(a,b)==1:\n",
        "                 print(\"pas négativement transitive : non \",a,\"R\",k,\" and non \",k,\"R\",b,\" and \",a,\"R\",b)\n",
        "                 return False\n",
        "        \n",
        "        self.prop[\"NegativementTransitive\"] = True \n",
        "        print(\"R est negativement transitive\")       \n",
        "        return True\n",
        "\n",
        "    def isFortementComplete(self):\n",
        "        for a in self.A:\n",
        "            for b in self.A:\n",
        "                if self.relationBetween(a,b)==0 and self.relationBetween(b,a)==0:\n",
        "                    print(\"pas fortement complet : non \",a,\"R\",b,\" and non \",b,\"R\",a)\n",
        "                    return False\n",
        "        self.prop[\"FortementComplete\"] = True\n",
        "        print(\"R est fortement complete\")\n",
        "        return True\n",
        "\n",
        "    def isComplete(self):\n",
        "        M = self.data\n",
        "        if(self.prop[\"FortementComplete\"]):\n",
        "          self.prop[\"Complete\"] = True\n",
        "          return True\n",
        "        else:\n",
        "          for a in self.A:\n",
        "            for b in self.A:\n",
        "              if a!=b:\n",
        "                if self.relationBetween(a,b)==0 and self.relationBetween(b,a)==0:\n",
        "                  print(\"pas complet : non\", a,\"R\",b,\" et non \",b,\"R\",a)\n",
        "                  return False\n",
        "          self.prop[\"Complete\"] = True\n",
        "          print(\"R est complete\")\n",
        "          return True\n",
        "      \n",
        "\n",
        "    def isSemiTransitive(self):\n",
        "      for x in self.A:\n",
        "        for y in self.A:\n",
        "          for z in self.A:\n",
        "            for w in self.A:\n",
        "              if self.relationBetween(x,y) and self.relationBetween(y,z):\n",
        "                if self.relationBetween(x,w)==0 and self.relationBetween(w,z)==0:\n",
        "                  print(\"pas semitransitive : \",x,\"R\",y,\" and \",y,\"R\",z,\" and non \",x,\"R\",w,\" and non \",w,\"R\",z)\n",
        "                  return False\n",
        "      self.prop[\"SemiTransitive\"] = True\n",
        "      print(\"R est semi transitive\")\n",
        "      return True\n",
        "\n",
        "\n",
        "    def isFerrers(self):\n",
        "      for x in self.A:\n",
        "        for y in self.A:\n",
        "          for z in self.A:\n",
        "            for w in self.A:\n",
        "              if(self.relationBetween(x,y) and self.relationBetween(z,w)):\n",
        "                if self.relationBetween(x,w)==0 and self.relationBetween(z,y)==0:\n",
        "                  print(\"pas de Ferrers : \",x,\"R\",y,\" and \",z,\"R\",w,\" and non \",x,\"R\",w,\" and non \",z,\"R\",y)\n",
        "                  return False\n",
        "      self.prop[\"Ferrers\"] = True\n",
        "      print(\"R est de Ferrers\")\n",
        "      return True\n",
        "\n",
        "\n",
        "# ------------------------------- Tests des Structures ---------------------------------- #\n",
        "\n",
        "    def isEqui(self): #check\n",
        "        if (self.prop['Symetrique'] == True) and (self.prop['Transitive'] == True) and (self.prop['Reflexive'] == True):\n",
        "            self.struct[\"Equivalence\"] = True\n",
        "            print(\"R est une relation d'equivalence\")\n",
        "            return True\n",
        "        print(\"R n'est pas une relation d'equivalence\")\n",
        "        return False\n",
        "            \n",
        "    def isPreordre(self): #check\n",
        "        if (self.prop['Transitive'] == True) and (self.prop['Reflexive'] == True):\n",
        "            self.struct[\"Preordre\"] = True\n",
        "            print(\"R est un preordre\")\n",
        "            return True\n",
        "        print(\"R n'est pas un preordre\")\n",
        "        return False\n",
        "                   \n",
        "    def isPreordreComplet(self): #check\n",
        "       if (self.prop['Transitive'] == True) and (self.prop['FortementComplete'] == True):\n",
        "           self.struct[\"PreordreComplet\"] = True\n",
        "           print(\"R est un preordre complet\")\n",
        "           return True\n",
        "       print(\"R n'est pas un preordre complet\")\n",
        "       return False\n",
        "  \n",
        "    def isOrdre(self): #check\n",
        "        if (self.prop['Reflexive'] == True) and (self.prop['Antisymetrique'] == True) and (self.prop['Transitive'] == True):\n",
        "            self.struct[\"Ordre\"] = True\n",
        "            print(\"R est un ordre\")\n",
        "            return True\n",
        "        print(\"R n'est pas un ordre\")\n",
        "        return False\n",
        "    \n",
        "    def isOrdreTotal(self): #check\n",
        "       if (self.prop['Transitive'] == True) and (self.prop['FortementComplete'] == True) and (self.prop['Antisymetrique'] == True):\n",
        "           self.struct[\"OrdreTotal\"] = True\n",
        "           print(\"R est un ordre total\")\n",
        "           return True\n",
        "       print(\"R n'est pas un ordre total\")\n",
        "       return False\n",
        "        \n",
        "    def isOrdreStrict(self):#check\n",
        "        if (self.prop['Asymetrique'] == True) and (self.prop['Transitive'] == True):\n",
        "            self.struct[\"OrdreStrict\"] = True\n",
        "            print(\"R est un ordre strict\")\n",
        "            return True\n",
        "        print(\"R n'est pas un ordre strict\")\n",
        "        return False       \n",
        "            \n",
        "    def isOrdreStrictTotal(self): #check\n",
        "       if (self.prop['Transitive'] == True) and (self.prop['Complete'] == True) and (self.prop['Asymetrique'] == True):\n",
        "           self.struct[\"OrdreStrictTotal\"] = True\n",
        "           print(\"R est un ordre strict total\")\n",
        "           return True\n",
        "       print(\"R n'est pas un ordre strict total\")\n",
        "       return False\n",
        "\n",
        "    def isOrdreComplet(self):\n",
        "      if (self.prop['Transitive'] == True) and (self.prop['Reflexive'] == True) and (self.prop['Complete'] == True) and (self.prop['Antisymetrique'] == True):\n",
        "          self.struct[\"OrdreComplet\"] = True\n",
        "          print(\"R est un ordre\")\n",
        "          return True\n",
        "      print(\"R n'est pas un ordre\")\n",
        "      return False\n",
        "\n",
        "    def isOrdreFort(self): #check\n",
        "       if (self.prop['NegativementTransitive'] == True) and (self.prop['Asymetrique'] == True):\n",
        "           self.struct[\"OrdreFort\"] = True\n",
        "           print(\"R est un ordre fort\")\n",
        "           return True\n",
        "       print(\"R n'est pas un ordre fort\")\n",
        "       return False      \n",
        "           \n",
        "    def isSemiOrdre(self): #check\n",
        "       if (self.prop['Reflexive'] == True) and (self.prop['Complete'] == True) and (self.prop['SemiTransitive'] == True) and (self.prop['Ferrers'] == True):\n",
        "           self.struct[\"SemiOrdre\"] = True\n",
        "           print(\"R est un semi ordre\")\n",
        "           return True\n",
        "       print(\"R n'est pas un semi ordre\")\n",
        "       return False        \n",
        "           \n",
        "    def isOrdreintervalle(self): #check\n",
        "       if (self.prop['Reflexive'] == True) and (self.prop['Complete'] == True) and (self.prop['Ferrers'] == True):\n",
        "           self.struct[\"OrdreIntervalle\"] = True\n",
        "           print(\"R est un ordre d'intervalle\")\n",
        "           return True\n",
        "       print(\"R n'est pas un ordre d'intervalle\")\n",
        "       return False        \n",
        "            \n",
        "\n",
        "    def check(self): # vérification de toutes les propriétés vu en cours \n",
        "        self.isReflexive()\n",
        "        self.isIrreflexive()\n",
        "        self.isSymetrique()\n",
        "        self.isAsymetrique()\n",
        "        self.isAntisymetrique()\n",
        "        self.isTransitive()\n",
        "        self.isNegativementTransitive()\n",
        "        self.isFortementComplete()\n",
        "        self.isComplete()\n",
        "        self.isFerrers()\n",
        "        self.isSemiTransitive()\n",
        "\n",
        "        self.isEqui()\n",
        "        self.isPreordre()\n",
        "        self.isPreordreComplet()\n",
        "        self.isOrdre()\n",
        "        self.isOrdreTotal()\n",
        "        self.isOrdreStrict()\n",
        "        self.isOrdreStrictTotal()\n",
        "        self.isOrdreFort()\n",
        "        self.isSemiOrdre()\n",
        "        self.isOrdreintervalle()\n",
        "\n",
        "\n",
        "    def relationBetween(self,a,b): #verifie si il existe aRb\n",
        "        element_R = self.A\n",
        "        i_a = element_R.index(a)\n",
        "        i_b = element_R.index(b)\n",
        "        return  self.data[i_a,i_b]==1\n",
        "\n",
        "    def affichage_relation(self): # permet l'affichage de la matrice de relation binaire de l'ensemble d'élément. \n",
        "        print(end = \"  \")\n",
        "        for ele in self.A: \n",
        "          print(ele,end=\" \")\n",
        "        print()\n",
        "        for ele1 in self.A:\n",
        "          print(ele1,end=' ')\n",
        "          for ele2 in self.A:\n",
        "            print(self.data[self.A.index(ele1),self.A.index(ele2)],end=' ')\n",
        "          print()\n",
        "\n",
        "    def normalisation_relation(self): # reexprime la matrice de la relation sous sa forme non permutée (a,b,c,...)\n",
        "        n= len(self.A)\n",
        "        data_n = np.zeros((n,n),dtype=np.int8)\n",
        "        list_element = [\"a\",\"b\",\"c\",\"d\",\"e\",\"f\",\"g\",\"h\",\"i\",\"j\",\"k\",\"l\",\"m\",\"n\",\"o\",\"p\",\"q\",\"r\",\"s\",\"t\",\"u\",\"v\",\"w\",\"x\",\"y\",\"z\"]\n",
        "        R = list_element[:len(self.A)] # liste d'element dans l'ordre \n",
        "        i = 0\n",
        "        j = 0  \n",
        "        for a in R:\n",
        "          for b in R:\n",
        "            if self.relationBetween(a,b):\n",
        "              data_n[i,j]=1\n",
        "            else:\n",
        "              data_n[i,j]=0\n",
        "            j+=1\n",
        "          j=0\n",
        "          i+=1\n",
        "        \n",
        "        self.data = data_n\n",
        "        self.A = R\n",
        "\n",
        "    def miseAjourR(self,a): # met à jour une relation R a qui on a enlevé l'élément a\n",
        "        if a not in self.A:\n",
        "          print(\"element n existe pas\")\n",
        "        else:\n",
        "          i = self.A.index(a)\n",
        "          self.data = np.delete(self.data,i,0)\n",
        "          self.data = np.delete(self.data,i,1)\n",
        "          self.A.remove(a)\n",
        "\n",
        "    def semi_ordre_numerique(self): # si la relation est un semi-ordre on calcule les ds de chaque éléments et on propose un semi ordre numérique\n",
        "      if not(self.struct[\"SemiOrdre\"]):\n",
        "        print(\"structure n'est pas un semi-ordre\")\n",
        "      else:\n",
        "        L = []\n",
        "        data = self.data\n",
        "        for i in range(len(self.A)):\n",
        "          L.append((sum(data[i,:]) - sum(data[:,i]), self.A[i]))\n",
        "       \n",
        "      L.sort(key = lambda x: x[0]) #tri dans l'ordre croissant en fonction de ds\n",
        "      L.reverse()\n",
        "      print(L)\n",
        "      c =  100 # valeur associée à l'élément de plus haut ds\n",
        "      delta = round(100/len(L),0)\n",
        "      before = [(100,L[0][0]),(100,L[0][0])]\n",
        "      num = []\n",
        "      num.append((L[0][1],c))\n",
        "      L.remove(L[0])\n",
        "      for n,e in L:\n",
        "\n",
        "        diff = abs(before[0][0]-before[1][0])\n",
        "    \n",
        "        if before[0][0] == 100 and before[1][0] == 100: # cas initial ajout du 2e élément\n",
        "           if n != before[1][1]:\n",
        "             c = round(c - delta,1)\n",
        "           else:\n",
        "             c = round(c - delta/2,1)\n",
        "        elif diff < 20 and n == before[1][1]: #cas du troisième élément égale de suite\n",
        "          c = round(c - diff/2,1)\n",
        "          # pour préserver l'indifférence entre plusieurs éléments à la\n",
        "          # suite qui aurait la même valeur ds.    \n",
        "        else:\n",
        "          c = round(c - delta,1)\n",
        "        # c valeur dans l'échelle numérique du semi-ordre\n",
        "        # n = ds(e) \n",
        "        num.append((e,c))\n",
        "        before[0] = before[1]\n",
        "        before[1] = (c,n) # c = before[1][0]\n",
        "      print(\"représentation numérique du semi ordre : \",num,\" avec une seuil d'indifférence excluant : \", round(delta,1))\n",
        "\n",
        "   "
      ],
      "metadata": {
        "id": "Z_OLTdyEAZMi"
      },
      "execution_count": null,
      "outputs": []
    },
    {
      "cell_type": "code",
      "source": [
        "def recupFichierRelation(nomFichier): #le fichier doit se trouver dans le même répertoire que la fichier python\n",
        "   list_element = [\"a\",\"b\",\"c\",\"d\",\"e\",\"f\",\"g\",\"h\",\"i\",\"j\",\"k\",\"l\",\"m\",\"n\",\"o\",\"p\",\"q\",\"r\",\"s\",\"t\",\"u\",\"v\",\"w\",\"x\",\"y\",\"z\"]\n",
        "   with open(nomFichier,'r') as f:\n",
        "    data = [list(map(int,line.strip(\"\\n\").split())) for line in f if line != \"\\n\"]\n",
        "    f.close()\n",
        "    data = np.array(data)\n",
        "    R_element = list_element[:len(data)]\n",
        "    return Relation(R_element,data)"
      ],
      "metadata": {
        "id": "7krO7Dv5cO3e"
      },
      "execution_count": null,
      "outputs": []
    },
    {
      "cell_type": "code",
      "source": [
        "R = recupFichierRelation(\"exempleRelation3.txt\")\n",
        "R.affichage_relation()\n",
        "R.check()\n",
        "R.semi_ordre_numerique()"
      ],
      "metadata": {
        "id": "T6YFTUKKxxGB",
        "colab": {
          "base_uri": "https://localhost:8080/"
        },
        "outputId": "30482725-d461-41ac-fb34-ea1e76797a2a"
      },
      "execution_count": null,
      "outputs": [
        {
          "output_type": "stream",
          "name": "stdout",
          "text": [
            "  a b c d e f \n",
            "a 1 1 1 1 0 0 \n",
            "b 0 1 1 1 0 0 \n",
            "c 0 1 1 1 0 0 \n",
            "d 0 1 1 1 0 0 \n",
            "e 1 1 1 1 1 1 \n",
            "f 1 1 1 1 1 1 \n",
            "R est reflexive\n",
            "pas irreflexive :  a R a\n",
            "pas symétrique : a R b  and non b R a\n",
            "pas asymétrique :  a R a  and  a R a\n",
            "pas antisymétrique :  b R c  and  c R b\n",
            "R est transitive\n",
            "R est negativement transitive\n",
            "R est fortement complete\n",
            "R est de Ferrers\n",
            "R est semi transitive\n",
            "R n'est pas une relation d'equivalence\n",
            "R est un preordre\n",
            "R est un preordre complet\n",
            "R n'est pas un ordre\n",
            "R n'est pas un ordre total\n",
            "R n'est pas un ordre strict\n",
            "R n'est pas un ordre strict total\n",
            "R n'est pas un ordre fort\n",
            "R est un semi ordre\n",
            "R est un ordre d'intervalle\n",
            "[(4, 'f'), (4, 'e'), (1, 'a'), (-3, 'd'), (-3, 'c'), (-3, 'b')]\n",
            "représentation numérique du semi ordre :  [('f', 100), ('e', 91.5), ('a', 74.5), ('d', 57.5), ('c', 49.0), ('b', 44.8)]  avec une seuil d'indifférence excluant :  17.0\n"
          ]
        }
      ]
    },
    {
      "cell_type": "markdown",
      "source": [
        "##DISTANCE DE KENDALL TAU"
      ],
      "metadata": {
        "id": "XhR_Esz5pCBH"
      }
    },
    {
      "cell_type": "markdown",
      "source": [
        "###Question 3"
      ],
      "metadata": {
        "id": "AHf6kqPCpHg9"
      }
    },
    {
      "cell_type": "code",
      "source": [
        "def dist(a,b,R,S): #calcul d(a,b,R,S)\n",
        "  if ( R.relationBetween(a,b) and not(S.relationBetween(a,b)) ) or ( not(R.relationBetween(a,b)) and S.relationBetween(a,b) ) :\n",
        "     return 1\n",
        "  else: \n",
        "     return 0\n",
        "     \n",
        "def dist_kendall_tau(R,S): #calcul D(R,S)\n",
        "  k_tau = 0\n",
        "  for a in R.A:\n",
        "    for b in R.A:\n",
        "      k_tau = dist(a,b,R,S) + k_tau\n",
        "  return k_tau\n",
        "\n",
        "\n",
        "def generation_Ordre_total_distance_min_k(R):\n",
        "   m = 1000\n",
        "   n = len(R.A)\n",
        "   data = np.zeros((n,n),dtype=np.int8)\n",
        "   #matrice triangulaire supérieure d'ordre total\n",
        "   for i in range(n):\n",
        "     for j in range(i,n):\n",
        "       data[i,j]=1\n",
        "       \n",
        "   #creation d'une liste de matrices de relations possibles (n_ele!)\n",
        "   liste_element_permutation = list(permutations(R.A,n))\n",
        "   R_min_kt = R\n",
        "   for l in liste_element_permutation:\n",
        "     S_element = list(l) #liste des elements d'une relation\n",
        "     S = Relation(S_element,data) # definition d'une relation d'ordre total possible\n",
        "     d = dist_kendall_tau(R,S) #calcul de la distance de kendall_tau entre ces deux relations\n",
        "     \n",
        "     if d < m:\n",
        "       m = d\n",
        "       R_min_kt = S\n",
        "      \n",
        "   R_min_kt.normalisation_relation()\n",
        "   return R_min_kt, m\n",
        "\n",
        "       "
      ],
      "metadata": {
        "id": "cwm6QRbJ8q2J"
      },
      "execution_count": null,
      "outputs": []
    },
    {
      "cell_type": "code",
      "source": [
        "R = recupFichierRelation(\"exempleRelation.txt\")\n",
        "R.affichage_relation()\n",
        "S, dk_v1 = generation_Ordre_total_distance_min_k(R)\n",
        "S.check()\n",
        "S.affichage_relation()\n",
        "\n",
        "dk_v2 = dist_kendall_tau(R,S)\n",
        "print(\"distance kendall tau entre R et le plus proche ordre total : \",dk_v2)"
      ],
      "metadata": {
        "id": "EDYv2KJNslEd",
        "colab": {
          "base_uri": "https://localhost:8080/"
        },
        "outputId": "c0710cf8-a15d-45d3-c4fc-86ee73509f80"
      },
      "execution_count": null,
      "outputs": [
        {
          "output_type": "stream",
          "name": "stdout",
          "text": [
            "  a b c d e \n",
            "a 1 1 0 1 1 \n",
            "b 0 1 0 0 1 \n",
            "c 1 1 1 1 1 \n",
            "d 1 1 1 1 1 \n",
            "e 1 1 0 0 1 \n",
            "R est reflexive\n",
            "pas irreflexive :  a R a\n",
            "pas symétrique : a R b  and non b R a\n",
            "pas asymétrique :  a R a  and  a R a\n",
            "R est antisymetrique\n",
            "R est transitive\n",
            "R est negativement transitive\n",
            "R est fortement complete\n",
            "R est de Ferrers\n",
            "R est semi transitive\n",
            "R n'est pas une relation d'equivalence\n",
            "R est un preordre\n",
            "R est un preordre complet\n",
            "R est un ordre\n",
            "R est un ordre total\n",
            "R n'est pas un ordre strict\n",
            "R n'est pas un ordre strict total\n",
            "R n'est pas un ordre fort\n",
            "R est un semi ordre\n",
            "R est un ordre d'intervalle\n",
            "  a b c d e \n",
            "a 1 1 0 1 1 \n",
            "b 0 1 0 0 1 \n",
            "c 1 1 1 1 1 \n",
            "d 0 1 0 1 1 \n",
            "e 0 0 0 0 1 \n",
            "distance kendall tau entre R et le plus proche ordre total :  4\n"
          ]
        }
      ]
    },
    {
      "cell_type": "markdown",
      "source": [
        "### Question 4"
      ],
      "metadata": {
        "id": "TVTQQZh4FLuw"
      }
    },
    {
      "cell_type": "code",
      "source": [
        "!pip install mip"
      ],
      "metadata": {
        "id": "UeHggfLKFPdw",
        "colab": {
          "base_uri": "https://localhost:8080/"
        },
        "outputId": "a4c81e58-9ec2-4711-d486-a6dde2597c0a"
      },
      "execution_count": null,
      "outputs": [
        {
          "output_type": "stream",
          "name": "stdout",
          "text": [
            "Collecting mip\n",
            "  Downloading mip-1.13.0-py3-none-any.whl (48.0 MB)\n",
            "\u001b[K     |████████████████████████████████| 48.0 MB 242 kB/s \n",
            "\u001b[?25hRequirement already satisfied: cffi in /usr/local/lib/python3.7/dist-packages (from mip) (1.15.0)\n",
            "Requirement already satisfied: pycparser in /usr/local/lib/python3.7/dist-packages (from cffi->mip) (2.21)\n",
            "Installing collected packages: mip\n",
            "Successfully installed mip-1.13.0\n"
          ]
        }
      ]
    },
    {
      "cell_type": "code",
      "source": [
        "from mip import *"
      ],
      "metadata": {
        "id": "xDeV4PCTF95w"
      },
      "execution_count": null,
      "outputs": []
    },
    {
      "cell_type": "code",
      "source": [
        "#Rela_R est une relation bien initialisée\n",
        "def PL_kendall_tau(Rela_R):\n",
        "  n = len(Rela_R.A)\n",
        "  R = Rela_R.data\n",
        "  #Rela_R.affichage_relation()\n",
        "  print(\"\")\n",
        "\n",
        "  m = Model(solver_name=\"PL_Kendall_TAU\")\n",
        "  S = [[m.add_var(var_type=BINARY) for i in range(n)] for j in range(n)] #declaration d'une matrice S de variables binaires\n",
        "\n",
        "  for a in range(n):\n",
        "    for b in range(n):\n",
        "      if a!=b:\n",
        "        m += S[a][b] + S[b][a] == 1  # condition fortement complet ( a != b) et antisymétrie\n",
        "      else:\n",
        "        m += S[a][b] == 1\n",
        "\n",
        "  for a in range(n):\n",
        "    for b in range(n):\n",
        "      for c in range(n):\n",
        "        m+= S[a][b] + S[b][c] - S[a][c] <= 1  # transitivité\n",
        "\n",
        "  m.objective = minimize(xsum(S[b][a]  for a in range(n) for b in range(n) if R[a][b]==1) + xsum( S[a][b] for a in range(n) for b in range(n) if R[a][b]==0))\n",
        "  m.optimize()\n",
        "\n",
        "  print(\"matrice S avec PL :\")\n",
        "  for i in range(n):\n",
        "    for j in range(n):\n",
        "      print(int(S[i][j].x),end=\" \")\n",
        "    print()\n",
        "\n",
        "  \n",
        "  # notons que s'il existe plusieurs ordres totaux de distance de kendall tau minimal, il est possible que les deux \n",
        "  # ordres totaux générés ne soient pas les mêmes comme c'est la cas avec l'exemple 1\n",
        "\n",
        "     "
      ],
      "metadata": {
        "id": "3GzMa1C4yX1S"
      },
      "execution_count": null,
      "outputs": []
    },
    {
      "cell_type": "code",
      "source": [
        "#test sur grande matrice relation\n",
        "n = 20\n",
        "list_element = [\"a\",\"b\",\"c\",\"d\",\"e\",\"f\",\"g\",\"h\",\"i\",\"j\",\"k\",\"l\",\"m\",\"n\",\"o\",\"p\",\"q\",\"r\",\"s\",\"t\",\"u\",\"v\",\"w\",\"x\",\"y\",\"z\"]\n",
        "list_element = list_element[:n]\n",
        "data = np.random.randint(0,2,(n,n),dtype=int)\n",
        "a , _ = data.shape\n",
        "A = list(map(str,list_element))\n",
        "\n",
        "B = Relation(A,data)\n",
        "B.affichage_relation()\n",
        "B.check()"
      ],
      "metadata": {
        "colab": {
          "base_uri": "https://localhost:8080/"
        },
        "id": "4s7H0bMg-TWY",
        "outputId": "3f3fc5ee-589e-4d99-da52-62d04c9ab5d1"
      },
      "execution_count": null,
      "outputs": [
        {
          "output_type": "stream",
          "name": "stdout",
          "text": [
            "  a b c d e f g h i j k l m n o p q r s t \n",
            "a 1 0 0 0 0 0 1 0 0 0 0 1 1 0 1 0 1 0 1 1 \n",
            "b 1 1 0 1 1 0 0 0 0 1 0 0 1 0 0 0 0 1 1 1 \n",
            "c 0 0 1 0 1 0 0 0 0 0 0 1 0 0 1 1 0 1 1 0 \n",
            "d 0 1 0 0 0 1 1 0 1 1 1 0 0 1 1 1 0 1 1 0 \n",
            "e 0 0 0 1 1 1 0 1 0 1 1 1 1 0 1 0 0 0 1 1 \n",
            "f 0 1 1 0 0 1 1 1 0 1 1 1 1 0 1 1 1 0 1 1 \n",
            "g 1 1 1 1 1 1 0 1 0 0 1 1 0 1 1 0 0 0 0 1 \n",
            "h 1 0 0 1 0 0 0 0 0 1 0 0 1 1 0 0 1 1 0 1 \n",
            "i 0 1 0 0 1 1 1 0 0 1 0 1 0 1 1 1 1 1 0 0 \n",
            "j 1 1 0 0 1 1 0 0 1 0 1 1 1 1 0 0 1 1 0 0 \n",
            "k 0 1 0 1 0 1 0 0 1 1 0 1 1 0 1 0 1 1 1 0 \n",
            "l 0 0 1 0 0 1 1 0 1 1 0 1 0 1 1 1 0 0 0 1 \n",
            "m 1 0 0 1 0 1 0 1 1 0 1 1 1 1 1 0 1 0 1 0 \n",
            "n 0 1 1 0 0 0 0 1 0 1 0 1 0 1 0 1 0 1 0 0 \n",
            "o 1 0 1 0 0 1 1 1 0 0 0 1 1 0 1 0 0 0 1 0 \n",
            "p 0 0 0 1 0 0 1 0 1 1 0 0 0 0 1 1 0 1 0 0 \n",
            "q 1 1 0 1 1 0 0 1 1 0 0 1 1 1 1 0 0 0 1 0 \n",
            "r 0 1 1 0 0 1 0 1 0 1 0 0 1 0 1 1 0 1 0 0 \n",
            "s 1 0 0 0 1 0 0 1 0 0 0 1 1 0 1 1 1 1 1 1 \n",
            "t 1 1 0 1 0 0 0 0 1 0 0 1 1 0 1 1 0 0 0 0 \n",
            "pas reflexive : non  d R d\n",
            "pas irreflexive :  a R a\n",
            "pas symétrique :  b R a  and non a R b\n",
            "pas asymétrique :  a R a  and  a R a\n",
            "pas antisymétrique :  a R g  and  g R a\n",
            "pas transitive :  a R g  and  g R b  and non  a R b\n",
            "pas négativement transitive : non  a R c  and non  c R a  and  a R a\n",
            "pas fortement complet : non  a R c  and non  c R a\n",
            "pas complet : non a R c  et non  c R a\n",
            "pas de Ferrers :  a R a  and  c R c  and non  a R c  and non  c R a\n",
            "pas semitransitive :  a R a  and  a R a  and non  a R c  and non  c R a\n",
            "R n'est pas une relation d'equivalence\n",
            "R n'est pas un preordre\n",
            "R n'est pas un preordre complet\n",
            "R n'est pas un ordre\n",
            "R n'est pas un ordre total\n",
            "R n'est pas un ordre strict\n",
            "R n'est pas un ordre strict total\n",
            "R n'est pas un ordre fort\n",
            "R n'est pas un semi ordre\n",
            "R n'est pas un ordre d'intervalle\n"
          ]
        }
      ]
    },
    {
      "cell_type": "markdown",
      "source": [
        "###Question 5 (voir rapport et démonstration)"
      ],
      "metadata": {
        "id": "Hkjh6HYTree1"
      }
    },
    {
      "cell_type": "markdown",
      "source": [
        "###Question 6"
      ],
      "metadata": {
        "id": "6v9K120N5is4"
      }
    },
    {
      "cell_type": "code",
      "source": [
        "\n",
        "import copy\n",
        "\n",
        "def card(R,a):\n",
        "  c=0\n",
        "  for b in R.A:\n",
        "    if not(R.relationBetween(a,b)):\n",
        "       c+= 1\n",
        "    if R.relationBetween(b,a) and a!=b:\n",
        "       c+= 1\n",
        "  return c\n",
        "  \n",
        "def memoize_kendall_tau(R):\n",
        "  memo = {}\n",
        "  permu = tuple(R.A)\n",
        "  Rwork = copy.deepcopy(R)\n",
        "  \n",
        "  def dp(Rwork,permu):\n",
        "    Rcurrent = copy.deepcopy(Rwork)\n",
        "    if permu in memo: \n",
        "      #print(permu,\" deja rencontree\")\n",
        "      return memo[permu]\n",
        "    else:\n",
        "      if len(Rwork.A)==0:\n",
        "        #print(\"last ele = \",Rwork.A[0])\n",
        "        f = 0\n",
        "      else:\n",
        "        l = []\n",
        "        for a in Rcurrent.A:\n",
        "          #print(a)\n",
        "          e = card(Rwork,a) # valeur pour passer de la relation R à R privée de a\n",
        "          #print(a ,\" = \",e)\n",
        "          Rwork.miseAjourR(a)\n",
        "          l.append(e + dp(Rwork,tuple(Rwork.A)))\n",
        "          Rwork = copy.deepcopy(Rcurrent)\n",
        "        f = min(l)\n",
        "        memo[tuple(Rcurrent.A)] = f\n",
        "      return f \n",
        "  \n",
        "  dist_k_min = dp(R,tuple(R.A))\n",
        "  return memo, dist_k_min \n",
        "\n"
      ],
      "metadata": {
        "id": "f1PdFCUj5k0s"
      },
      "execution_count": null,
      "outputs": []
    },
    {
      "cell_type": "code",
      "source": [
        "# test kendall tau v2 rec \n",
        "R = recupFichierRelation(\"exempleRelation3.txt\")\n",
        "R.affichage_relation()\n",
        "\n",
        "dico , d_k = memoize_kendall_tau(R)\n",
        "print(\"distance de kendall tau min DP : \",d_k)\n",
        "#print(dico)"
      ],
      "metadata": {
        "colab": {
          "base_uri": "https://localhost:8080/"
        },
        "id": "__qJn-42e51W",
        "outputId": "255037a4-ab18-46e4-d0e7-76e90a9c5896"
      },
      "execution_count": null,
      "outputs": [
        {
          "output_type": "stream",
          "name": "stdout",
          "text": [
            "  a b c d e f \n",
            "a 1 1 1 1 0 0 \n",
            "b 0 1 1 1 0 0 \n",
            "c 0 1 1 1 0 0 \n",
            "d 0 1 1 1 0 0 \n",
            "e 1 1 1 1 1 1 \n",
            "f 1 1 1 1 1 1 \n",
            "distance de kendall tau min DP :  4\n"
          ]
        }
      ]
    },
    {
      "cell_type": "code",
      "source": [
        "n = 7\n",
        "data = np.random.randint(0,2,(n,n),dtype=int)\n",
        "list_element = [\"a\",\"b\",\"c\",\"d\",\"e\",\"f\",\"g\",\"h\",\"i\",\"j\",\"k\",\"l\",\"m\",\"n\",\"o\",\"p\",\"q\",\"r\",\"s\",\"t\",\"u\",\"v\",\"w\",\"x\",\"y\",\"z\"]\n",
        "A = list_element[:n]\n",
        "\n",
        "B_dp = Relation(A,data)\n",
        "B_dp.affichage_relation()\n",
        "dico , d_k = memoize_kendall_tau(B_dp)\n",
        "print(\"distance de kendall tau min DP : \",d_k)\n"
      ],
      "metadata": {
        "id": "xGxFkdSIA-ay"
      },
      "execution_count": null,
      "outputs": []
    },
    {
      "cell_type": "code",
      "source": [
        "n = 10\n",
        "list_element = range(n)\n",
        "\n",
        "data = np.random.randint(0,2,(n,n),dtype=int)\n",
        "\n",
        "a , _ = data.shape\n",
        "A = list(map(str,list_element))\n",
        "\n",
        "B_dp = Relation(A,data)\n",
        "B_dp.affichage_relation()\n",
        "\n",
        "start_time = time.time()\n",
        "print(\"distance de kendall tau DP : \",memoize_kendall_tau(B_dp)[1])\n",
        "print(\"--- %s seconds ---\" % (time.time() - start_time))"
      ],
      "metadata": {
        "id": "O7Zr03QRl_cP"
      },
      "execution_count": null,
      "outputs": []
    },
    {
      "cell_type": "code",
      "source": [
        "print(\"ordre total minimisant la distance de Kendall tau V2\")\n",
        "R = recupFichierRelation(\"exempleRelation.txt\")\n",
        "R.affichage_relation()\n",
        "Sv2,kt_tau = kendall_v2_it(R)\n",
        "Sv2.affichage_relation()\n",
        "print(\"distance de kendall tau v2 : \",kt_tau)\n"
      ],
      "metadata": {
        "id": "GcuGqprybkI5"
      },
      "execution_count": null,
      "outputs": []
    },
    {
      "cell_type": "markdown",
      "source": [
        "###Question 7 :  Distance de Spearman"
      ],
      "metadata": {
        "id": "HQuP7PlT75d_"
      }
    },
    {
      "cell_type": "code",
      "source": [
        "# calcule le cardinal de {b, bRa}\n",
        "def _Ra(R,a):\n",
        "  c = 0\n",
        "  for b in R.A:\n",
        "    if R.relationBetween(b,a):\n",
        "      c+=1\n",
        "  return c\n",
        "\n",
        "# calcule le cardinal de {b, aRb}\n",
        "def aR_(a,R):\n",
        "  c = 0\n",
        "  for b in R.A:\n",
        "    if R.relationBetween(a,b):\n",
        "      c+=1\n",
        "  return c\n",
        "\n",
        "#calcule la pseudo distance de Spearman entre deux relations\n",
        "def dist_Spearman(R,S):\n",
        "  spear = 0\n",
        "  for a in R.A:\n",
        "    spear+= abs( _Ra(R,a) - _Ra(S,a)) + abs( aR_(a,R) - aR_(a,S))\n",
        "  return spear\n",
        "\n",
        "# méthode brute force pour générer un ordre total en minimisant la distance de Spearman\n",
        "def generation_Ordre_total_distance_s(R):\n",
        "   min = 1000\n",
        "   n = len(R.A)\n",
        "   data = np.zeros((n,n),dtype=np.int8)\n",
        "   for i in range(n):\n",
        "     for j in range(i,n):\n",
        "       data[i,j]=1\n",
        "       \n",
        "   #ensemble des permutations d'éléments possibles pour la relation R (n!)\n",
        "   liste_element_permutation = list(permutations(R.A,n))\n",
        "   for l in liste_element_permutation:\n",
        "     S_element = list(l) #liste des elements d'une relation\n",
        "     S = Relation(S_element,data) # création d'une relation d'ordre total possible\n",
        "     e = dist_Spearman(R,S)\n",
        "     if e < min:\n",
        "       min = e\n",
        "       R_min_spear = S #relation ordre total minimal associé à la distance d\n",
        "   \n",
        "   #R_min_spear.normalisation_relation()\n",
        "   return R_min_spear, min"
      ],
      "metadata": {
        "id": "COpnCTwl78Xa"
      },
      "execution_count": null,
      "outputs": []
    },
    {
      "cell_type": "code",
      "source": [
        "R = recupFichierRelation(\"exempleRelation.txt\")\n",
        "_, m = generation_Ordre_total_distance_s(R)\n",
        "print(m)"
      ],
      "metadata": {
        "id": "vvMA5LqMzdSE"
      },
      "execution_count": null,
      "outputs": []
    },
    {
      "cell_type": "markdown",
      "source": [
        "###Question 8"
      ],
      "metadata": {
        "id": "WE7Ay87Kya49"
      }
    },
    {
      "cell_type": "markdown",
      "source": [
        "Voir le rapport  \n"
      ],
      "metadata": {
        "id": "bVb1YSwGh6VO"
      }
    },
    {
      "cell_type": "markdown",
      "source": [
        "###Question 9"
      ],
      "metadata": {
        "id": "attqSRAgyqly"
      }
    },
    {
      "cell_type": "code",
      "source": [
        "# gestion d un graphe bi parti\n",
        "import networkx as nx\n",
        "\n",
        "def all_permutation_instead_of(A,a):\n",
        "  #A est une liste d'élément\n",
        "  #a est l'élément à la position à ne pas permuter \n",
        "  i = A.index(a)\n",
        "  L = []\n",
        "  all_permutation =  list(permutations(A))\n",
        "  for p in all_permutation:\n",
        "    if p[i]==a:\n",
        "      L.append(p)\n",
        "  return L \n",
        "\n",
        "# renvoie une matrice de relation de R agencée par rapport à l'ordre des éléments entrées en paramètre\n",
        "# par défaut la matrice relation est définie suivant ex : (a,b,c)\n",
        "# E contient une permutation de la liste d'élément afin de réécrire la matrice dans cet ordre ex : (b,a,c)\n",
        "def normalisation_relation_avancee(R,E):\n",
        "  data_norm = np.zeros((len(E),len(E)),dtype=int)\n",
        "  if len(E)!= len(R.A):\n",
        "    return data_norm # renvoyer une matrice nulle (ce qui signifie qu'il y a un problème de dimension)\n",
        "  i = 0\n",
        "  j = 0  \n",
        "  for a in E:\n",
        "    for b in E:\n",
        "      if R.relationBetween(a,b):\n",
        "        data_norm[i,j]=1\n",
        "      j+=1\n",
        "    j=0\n",
        "    i+=1\n",
        "  return data_norm\n",
        "\n",
        "# L : liste des éléments\n",
        "# fonction qui replace un élément e de L à une position bien définie i dans L\n",
        "def element_en_position(i,e,L):\n",
        "  L.remove(e)\n",
        "  L.insert(i,e)\n",
        "  return L\n",
        "\n",
        "# fonction qui crée un graphe bi parti pondérée à partir d'une relation quelconque en paramètre \n",
        "def create_weighted_bipartite_graph(R):\n",
        "  G = nx.DiGraph()\n",
        "  n = len(R.A)\n",
        "  i = 0\n",
        "  L = copy.deepcopy(R.A)\n",
        "\n",
        "  matrice_ordre_total = np.zeros((n,n),dtype=np.int8)\n",
        "  for i in range(n):\n",
        "     for j in range(i,n):\n",
        "       matrice_ordre_total[i,j]=1\n",
        "\n",
        "  for pos in range(len(R.A)): #pour chaque position potentielle ( 0 -> |R.A|-1)\n",
        "    for a in R.A: # pour chaque element de R.A\n",
        "      min_wa = 1000\n",
        "      for list_ele in all_permutation_instead_of(element_en_position(pos,a,L),a): #chaque permutation possible où l'element ne bouge pas\n",
        "         data = normalisation_relation_avancee(R,list_ele) # reecrit la matrice des relations en fonction de la permutation choisie\n",
        "         w = sum(abs(data[pos,:] - matrice_ordre_total[pos,:])) + sum(abs(data[:,pos] - matrice_ordre_total[:,pos]))  # calcul de la pseudo distance de spearman évalue pour un élément ( pour plus d'explication voir le rapport du Projet) \n",
        "         if w < min_wa:\n",
        "           min_wa = w\n",
        "      G.add_edge(a,str(pos),weight = min_wa)  #ajout de l'arc du sommet a vers le sommet str(pos) pour un poids minimal min_a \n",
        "    pos=0\n",
        "  \n",
        "  #affichage du graphe bi partie\n",
        "  pos=nx.spring_layout(G) \n",
        "  nx.draw_networkx(G, pos) \n",
        "  labels = nx.get_edge_attributes(G,'weight')\n",
        "  print(labels)\n",
        "  nx.draw_networkx_edge_labels(G,pos,edge_labels=labels)\n",
        "  return G\n",
        "\n",
        "def relation_min_spearman_with_bipartite_graph(R):\n",
        "    n = len(R.A)\n",
        "    G = create_weighted_bipartite_graph(R) #création du graphe bi parti à partir de la relation R\n",
        "    dico = nx.bipartite.minimum_weight_full_matching(G)\n",
        "    #print(dico)\n",
        "    A = ['_' for i in range(n)]\n",
        "    for i in R.A:\n",
        "      A[int(dico[i])] = i\n",
        "    \n",
        "    matrice_ordre_total = np.zeros((n,n),dtype=np.int8)\n",
        "    for i in range(n):\n",
        "       for j in range(i,n):\n",
        "        matrice_ordre_total[i,j]=1\n",
        "  \n",
        "    S = Relation(A,matrice_ordre_total)\n",
        "    S.normalisation_relation()\n",
        "    print(\"relation d'ordre total minimisant la distance de spearman : \")\n",
        "    S.affichage_relation()"
      ],
      "metadata": {
        "id": "RwRAU6XVviB_"
      },
      "execution_count": null,
      "outputs": []
    },
    {
      "cell_type": "code",
      "source": [
        "n = 4\n",
        "\n",
        "data = np.random.randint(0,2,(n,n),dtype=int)\n",
        "list_element = [\"a\",\"b\",\"c\",\"d\",\"e\",\"f\",\"g\",\"h\",\"i\",\"j\",\"k\",\"l\",\"m\",\"n\",\"o\",\"p\",\"q\",\"r\",\"s\",\"t\",\"u\",\"v\",\"w\",\"x\",\"y\",\"z\"]\n",
        "A = list_element[:n]\n",
        "BG = Relation(A,data)\n",
        "print(\"relation R : \")\n",
        "BG.affichage_relation()\n",
        "\n",
        "start_time = time.time()\n",
        "relation_min_spearman_with_bipartite_graph(BG)\n",
        "print(\"--- %s seconds ---\" % (time.time() - start_time))"
      ],
      "metadata": {
        "id": "vniGfEugOqJx"
      },
      "execution_count": null,
      "outputs": []
    },
    {
      "cell_type": "code",
      "source": [
        "R1 = recupFichierRelation(\"exempleRelation2.txt\")\n",
        "\n",
        "Ss, ds = generation_Ordre_total_distance_s(R1)\n",
        "Ss.affichage_relation()\n",
        "print(\"Distance de Spearman : \",ds)"
      ],
      "metadata": {
        "id": "uk07xDLL_d4h"
      },
      "execution_count": null,
      "outputs": []
    }
  ]
}